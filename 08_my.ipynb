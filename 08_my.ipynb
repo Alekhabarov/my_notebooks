{
 "cells": [
  {
   "cell_type": "code",
   "execution_count": 1,
   "id": "ce554878-3a6c-46b5-b95d-774b5735fe30",
   "metadata": {},
   "outputs": [],
   "source": [
    "import pandas as pd\n",
    "import numpy as np"
   ]
  },
  {
   "cell_type": "code",
   "execution_count": 3,
   "id": "108ca766-e505-4311-bb53-84e7b3300668",
   "metadata": {},
   "outputs": [
    {
     "data": {
      "text/plain": [
       "2"
      ]
     },
     "execution_count": 3,
     "metadata": {},
     "output_type": "execute_result"
    }
   ],
   "source": [
    "'another'.find('other')"
   ]
  },
  {
   "cell_type": "code",
   "execution_count": 5,
   "id": "75f2ef1a-285c-4d87-86ea-bc4c6db94f08",
   "metadata": {
    "jp-MarkdownHeadingCollapsed": true,
    "tags": []
   },
   "outputs": [
    {
     "name": "stdout",
     "output_type": "stream",
     "text": [
      "[1, 2, 3, 2]\n"
     ]
    }
   ],
   "source": [
    "l = [1, 2, 2]\n",
    "# l.append(4)\n",
    "l.insert(2, 3)\n",
    "print(l)"
   ]
  },
  {
   "cell_type": "code",
   "execution_count": 20,
   "id": "e8a54c26-c4a4-415a-97fc-fff20ddca3b4",
   "metadata": {},
   "outputs": [],
   "source": [
    "from random import shuffle"
   ]
  },
  {
   "cell_type": "code",
   "execution_count": 23,
   "id": "81193284-b0ee-4ab9-bf57-9f900685dd6b",
   "metadata": {},
   "outputs": [
    {
     "name": "stdout",
     "output_type": "stream",
     "text": [
      "3\n",
      "[1, 4, 2]\n"
     ]
    }
   ],
   "source": [
    "l = [1, 2, 3, 4]\n",
    "#l.reverse()\n",
    "shuffle(l)\n",
    "print(l.pop(-1))\n",
    "print(l)"
   ]
  },
  {
   "cell_type": "code",
   "execution_count": 28,
   "id": "1f3d693e-a2ed-4c6e-a726-ab71ed2c616e",
   "metadata": {},
   "outputs": [
    {
     "name": "stdout",
     "output_type": "stream",
     "text": [
      "[1, 4, 2]\n"
     ]
    }
   ],
   "source": [
    "l = [1, 2, 4, 2]\n",
    "l.remove(2)\n",
    "print(l)"
   ]
  },
  {
   "cell_type": "code",
   "execution_count": 35,
   "id": "31619255-7ac8-4224-a125-019e65881f31",
   "metadata": {},
   "outputs": [
    {
     "name": "stdout",
     "output_type": "stream",
     "text": [
      "1\n"
     ]
    }
   ],
   "source": [
    "print([2, 2, 4].index(2,1))"
   ]
  },
  {
   "cell_type": "code",
   "execution_count": 36,
   "id": "c8fb162e-9e24-47b1-a9b9-eff4a7f8d9d1",
   "metadata": {},
   "outputs": [],
   "source": [
    "hero = 'Harry'\n",
    "guide = 'Dumbldore'\n",
    "enemy = \"VolanDeMort\""
   ]
  },
  {
   "cell_type": "code",
   "execution_count": 45,
   "id": "110fe831-4ab2-45a6-b223-f82f835f0060",
   "metadata": {
    "tags": []
   },
   "outputs": [
    {
     "name": "stdout",
     "output_type": "stream",
     "text": [
      "3503268308697088569\n",
      "2919723908951061604\n",
      "8039180072978468762\n",
      "{'Harry', 'VolanDeMort', 'Dumbldore'}\n"
     ]
    }
   ],
   "source": [
    "my_set = {hero, guide, enemy}\n",
    "print(hash(hero))\n",
    "print(hash(guide))\n",
    "print(hash(enemy))\n",
    "print(my_set)"
   ]
  },
  {
   "cell_type": "code",
   "execution_count": 54,
   "id": "34430eaf-3ee5-4e71-a971-3bf6f38070b8",
   "metadata": {},
   "outputs": [
    {
     "name": "stdout",
     "output_type": "stream",
     "text": [
      "apple\n",
      "banana\n"
     ]
    }
   ],
   "source": [
    "calories = {'apple': 52, 'banana': 89, 'choco': 546}\n",
    "for k, v in calories.items():\n",
    "    print(k) if v < 500 else None"
   ]
  },
  {
   "cell_type": "code",
   "execution_count": 61,
   "id": "c574f3ae-24f9-489e-8a2b-447caa72e164",
   "metadata": {},
   "outputs": [
    {
     "data": {
      "text/html": [
       "<div>\n",
       "<style scoped>\n",
       "    .dataframe tbody tr th:only-of-type {\n",
       "        vertical-align: middle;\n",
       "    }\n",
       "\n",
       "    .dataframe tbody tr th {\n",
       "        vertical-align: top;\n",
       "    }\n",
       "\n",
       "    .dataframe thead th {\n",
       "        text-align: right;\n",
       "    }\n",
       "</style>\n",
       "<table border=\"1\" class=\"dataframe\">\n",
       "  <thead>\n",
       "    <tr style=\"text-align: right;\">\n",
       "      <th></th>\n",
       "      <th>a</th>\n",
       "      <th>b</th>\n",
       "    </tr>\n",
       "  </thead>\n",
       "  <tbody>\n",
       "    <tr>\n",
       "      <th>0</th>\n",
       "      <td>1</td>\n",
       "      <td>4</td>\n",
       "    </tr>\n",
       "    <tr>\n",
       "      <th>1</th>\n",
       "      <td>11</td>\n",
       "      <td>14</td>\n",
       "    </tr>\n",
       "    <tr>\n",
       "      <th>2</th>\n",
       "      <td>21</td>\n",
       "      <td>24</td>\n",
       "    </tr>\n",
       "  </tbody>\n",
       "</table>\n",
       "</div>"
      ],
      "text/plain": [
       "    a   b\n",
       "0   1   4\n",
       "1  11  14\n",
       "2  21  24"
      ]
     },
     "execution_count": 61,
     "metadata": {},
     "output_type": "execute_result"
    }
   ],
   "source": [
    "pd.DataFrame([{'a': 1, 'b': 4}, {'a': 11, 'b': 14},{'a': 21, 'b': 24}])"
   ]
  },
  {
   "cell_type": "code",
   "execution_count": 67,
   "id": "49c1c02e-5687-4775-8dc5-83bf88272cdf",
   "metadata": {},
   "outputs": [
    {
     "data": {
      "text/html": [
       "<div>\n",
       "<style scoped>\n",
       "    .dataframe tbody tr th:only-of-type {\n",
       "        vertical-align: middle;\n",
       "    }\n",
       "\n",
       "    .dataframe tbody tr th {\n",
       "        vertical-align: top;\n",
       "    }\n",
       "\n",
       "    .dataframe thead th {\n",
       "        text-align: right;\n",
       "    }\n",
       "</style>\n",
       "<table border=\"1\" class=\"dataframe\">\n",
       "  <thead>\n",
       "    <tr style=\"text-align: right;\">\n",
       "      <th></th>\n",
       "      <th>a</th>\n",
       "      <th>b</th>\n",
       "    </tr>\n",
       "  </thead>\n",
       "  <tbody>\n",
       "    <tr>\n",
       "      <th>0</th>\n",
       "      <td>1</td>\n",
       "      <td>4</td>\n",
       "    </tr>\n",
       "    <tr>\n",
       "      <th>1</th>\n",
       "      <td>11</td>\n",
       "      <td>14</td>\n",
       "    </tr>\n",
       "    <tr>\n",
       "      <th>2</th>\n",
       "      <td>21</td>\n",
       "      <td>24</td>\n",
       "    </tr>\n",
       "  </tbody>\n",
       "</table>\n",
       "</div>"
      ],
      "text/plain": [
       "    a   b\n",
       "0   1   4\n",
       "1  11  14\n",
       "2  21  24"
      ]
     },
     "execution_count": 67,
     "metadata": {},
     "output_type": "execute_result"
    }
   ],
   "source": [
    "pd.DataFrame({'a': [1, 11, 21], 'b': [4, 14, 24]})"
   ]
  },
  {
   "cell_type": "code",
   "execution_count": 75,
   "id": "0bc77ba9-0ce5-4616-8d6f-97069855a261",
   "metadata": {},
   "outputs": [
    {
     "data": {
      "text/html": [
       "<div>\n",
       "<style scoped>\n",
       "    .dataframe tbody tr th:only-of-type {\n",
       "        vertical-align: middle;\n",
       "    }\n",
       "\n",
       "    .dataframe tbody tr th {\n",
       "        vertical-align: top;\n",
       "    }\n",
       "\n",
       "    .dataframe thead th {\n",
       "        text-align: right;\n",
       "    }\n",
       "</style>\n",
       "<table border=\"1\" class=\"dataframe\">\n",
       "  <thead>\n",
       "    <tr style=\"text-align: right;\">\n",
       "      <th></th>\n",
       "      <th>a</th>\n",
       "      <th>b</th>\n",
       "    </tr>\n",
       "  </thead>\n",
       "  <tbody>\n",
       "    <tr>\n",
       "      <th>0</th>\n",
       "      <td>1</td>\n",
       "      <td>4</td>\n",
       "    </tr>\n",
       "    <tr>\n",
       "      <th>1</th>\n",
       "      <td>11</td>\n",
       "      <td>14</td>\n",
       "    </tr>\n",
       "    <tr>\n",
       "      <th>2</th>\n",
       "      <td>21</td>\n",
       "      <td>24</td>\n",
       "    </tr>\n",
       "  </tbody>\n",
       "</table>\n",
       "</div>"
      ],
      "text/plain": [
       "    a   b\n",
       "0   1   4\n",
       "1  11  14\n",
       "2  21  24"
      ]
     },
     "execution_count": 75,
     "metadata": {},
     "output_type": "execute_result"
    }
   ],
   "source": [
    "pd.DataFrame([[1, 4], [11, 14], [21, 24]], columns = ['a','b'])"
   ]
  },
  {
   "cell_type": "code",
   "execution_count": 7,
   "id": "57c4881a-b1aa-471e-b1d0-bfd320b1be4f",
   "metadata": {},
   "outputs": [
    {
     "name": "stdout",
     "output_type": "stream",
     "text": [
      "{'Ann': 1100000, 'Zach': 440000}\n"
     ]
    }
   ],
   "source": [
    "customers = [('John', 240000),\n",
    "    ('Alice', 120000),\n",
    "    ('Ann', 1100000),\n",
    "    ('Zach', 440000)\n",
    "]\n",
    "whales = {x:y for x,y in customers if y> 300000}\n",
    "print(whales)\n"
   ]
  },
  {
   "cell_type": "code",
   "execution_count": 8,
   "id": "45775f03-2f85-4f52-8132-8d0ceb751ebb",
   "metadata": {},
   "outputs": [
    {
     "name": "stdout",
     "output_type": "stream",
     "text": [
      "[(0, 0), (0, 1), (0, 2), (0, 3), (1, 0), (1, 1), (1, 2), (1, 3), (2, 0), (2, 1), (2, 2), (2, 3)]\n"
     ]
    }
   ],
   "source": [
    "print([(x,y) for x in range(3) for y in range(4)])"
   ]
  },
  {
   "cell_type": "code",
   "execution_count": 12,
   "id": "d1352576-3c99-442b-96c0-b06d5e1fae87",
   "metadata": {},
   "outputs": [
    {
     "name": "stdout",
     "output_type": "stream",
     "text": [
      "{'banana': 89, 'choco': 54, 'juice': 77}\n"
     ]
    }
   ],
   "source": [
    "calories = {'apple': 42, 'banana': 89, 'choco': 54, 'juice': 77}\n",
    "print({x: y for x, y in calories.items() if y > 50})"
   ]
  },
  {
   "cell_type": "code",
   "execution_count": 29,
   "id": "7b88d3b4-7df8-4cc8-a93b-6db4d50ad258",
   "metadata": {},
   "outputs": [
    {
     "name": "stdout",
     "output_type": "stream",
     "text": [
      "['Одна', 'ключевых', 'политических', 'интриг', 'последних', 'вокруг']\n",
      "['невыполнения', 'Киевом', 'Минских', 'соглашений', 'раскрыта', 'этот', 'окончательно']\n",
      "['Последнее', 'признание', 'этом', 'вопросе', 'сделал', 'тот,', 'кого', 'выполнение', 'договоренностей', 'зависело', 'первую', 'очередь,']\n",
      "['именно', 'президент', 'Украины.', 'желание', 'пересмотреть', 'соглашения', 'наконец', 'исполнено', 'только', 'совсем', 'иначе,']\n",
      "['хотелось', 'Зеленскому']\n",
      "[]\n"
     ]
    }
   ],
   "source": [
    "text = '''Одна из ключевых политических интриг последних лет – вокруг\n",
    "невыполнения Киевом Минских соглашений – раскрыта на этот раз окончательно .\n",
    "Последнее признание в этом вопросе сделал тот, от кого выполнение договоренностей зависело в первую очередь,\n",
    "а именно президент Украины. Его желание пересмотреть соглашения наконец исполнено – но только совсем иначе,\n",
    "как хотелось Зеленскому\n",
    "'''\n",
    "w = [[x for x in line.split() if len(x) > 3] for line in text.split('\\n')]\n",
    "for i in range(len(w)):\n",
    "    print(w[i])\n"
   ]
  }
 ],
 "metadata": {
  "kernelspec": {
   "display_name": "Python 3 (ipykernel)",
   "language": "python",
   "name": "python3"
  },
  "language_info": {
   "codemirror_mode": {
    "name": "ipython",
    "version": 3
   },
   "file_extension": ".py",
   "mimetype": "text/x-python",
   "name": "python",
   "nbconvert_exporter": "python",
   "pygments_lexer": "ipython3",
   "version": "3.8.6"
  }
 },
 "nbformat": 4,
 "nbformat_minor": 5
}
